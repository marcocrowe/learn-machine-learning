{
 "cells": [
  {
   "cell_type": "code",
   "execution_count": 1,
   "id": "a28d2e13",
   "metadata": {},
   "outputs": [],
   "source": [
    "try: # Ensure the markcrowe package is installed\n",
    "    import data_analytics.machine_learning as machine_learning\n",
    "except ImportError:\n",
    "    print(\"markcrowe is not installed. Installing now...\")\n",
    "    %pip install markcrowe\n",
    "    import data_analytics.machine_learning as machine_learning"
   ]
  },
  {
   "cell_type": "code",
   "execution_count": 2,
   "id": "1b3c3336",
   "metadata": {},
   "outputs": [],
   "source": [
    "from pandas import DataFrame, read_csv\n",
    "from scipy.stats import entropy"
   ]
  },
  {
   "cell_type": "markdown",
   "id": "8b4b29f9",
   "metadata": {},
   "source": [
    "# [Machine Learning](https://github.com/marcocrowe/learn-machine-learning \"Machine Learning\")"
   ]
  },
  {
   "cell_type": "markdown",
   "id": "048d0b04",
   "metadata": {},
   "source": [
    "## Question 4 (25 marks)"
   ]
  },
  {
   "cell_type": "markdown",
   "id": "0db1b3c0",
   "metadata": {},
   "source": [
    "### Question 4.3 - training dataset\n",
    "\n",
    "The following is a training dataset of commitment levels of work for a module and a corresponding variable ‘Pass’ (suggesting the possibility of a student passing the module)."
   ]
  },
  {
   "cell_type": "code",
   "execution_count": 27,
   "id": "c05e4486",
   "metadata": {},
   "outputs": [
    {
     "data": {
      "text/html": [
       "<div>\n",
       "<style scoped>\n",
       "    .dataframe tbody tr th:only-of-type {\n",
       "        vertical-align: middle;\n",
       "    }\n",
       "\n",
       "    .dataframe tbody tr th {\n",
       "        vertical-align: top;\n",
       "    }\n",
       "\n",
       "    .dataframe thead th {\n",
       "        text-align: right;\n",
       "    }\n",
       "</style>\n",
       "<table border=\"1\" class=\"dataframe\">\n",
       "  <thead>\n",
       "    <tr style=\"text-align: right;\">\n",
       "      <th></th>\n",
       "      <th>Commitment</th>\n",
       "      <th>Pass</th>\n",
       "    </tr>\n",
       "  </thead>\n",
       "  <tbody>\n",
       "    <tr>\n",
       "      <th>0</th>\n",
       "      <td>High</td>\n",
       "      <td>No</td>\n",
       "    </tr>\n",
       "    <tr>\n",
       "      <th>1</th>\n",
       "      <td>Medium</td>\n",
       "      <td>Yes</td>\n",
       "    </tr>\n",
       "    <tr>\n",
       "      <th>2</th>\n",
       "      <td>Low</td>\n",
       "      <td>Yes</td>\n",
       "    </tr>\n",
       "    <tr>\n",
       "      <th>3</th>\n",
       "      <td>High</td>\n",
       "      <td>Yes</td>\n",
       "    </tr>\n",
       "    <tr>\n",
       "      <th>4</th>\n",
       "      <td>High</td>\n",
       "      <td>Yes</td>\n",
       "    </tr>\n",
       "    <tr>\n",
       "      <th>5</th>\n",
       "      <td>Medium</td>\n",
       "      <td>Yes</td>\n",
       "    </tr>\n",
       "    <tr>\n",
       "      <th>6</th>\n",
       "      <td>Low</td>\n",
       "      <td>No</td>\n",
       "    </tr>\n",
       "    <tr>\n",
       "      <th>7</th>\n",
       "      <td>Low</td>\n",
       "      <td>No</td>\n",
       "    </tr>\n",
       "    <tr>\n",
       "      <th>8</th>\n",
       "      <td>High</td>\n",
       "      <td>Yes</td>\n",
       "    </tr>\n",
       "    <tr>\n",
       "      <th>9</th>\n",
       "      <td>Low</td>\n",
       "      <td>Yes</td>\n",
       "    </tr>\n",
       "    <tr>\n",
       "      <th>10</th>\n",
       "      <td>High</td>\n",
       "      <td>No</td>\n",
       "    </tr>\n",
       "    <tr>\n",
       "      <th>11</th>\n",
       "      <td>Medium</td>\n",
       "      <td>Yes</td>\n",
       "    </tr>\n",
       "    <tr>\n",
       "      <th>12</th>\n",
       "      <td>Medium</td>\n",
       "      <td>Yes</td>\n",
       "    </tr>\n",
       "    <tr>\n",
       "      <th>13</th>\n",
       "      <td>Low</td>\n",
       "      <td>No</td>\n",
       "    </tr>\n",
       "  </tbody>\n",
       "</table>\n",
       "</div>"
      ],
      "text/plain": [
       "   Commitment Pass\n",
       "0        High   No\n",
       "1      Medium  Yes\n",
       "2         Low  Yes\n",
       "3        High  Yes\n",
       "4        High  Yes\n",
       "5      Medium  Yes\n",
       "6         Low   No\n",
       "7         Low   No\n",
       "8        High  Yes\n",
       "9         Low  Yes\n",
       "10       High   No\n",
       "11     Medium  Yes\n",
       "12     Medium  Yes\n",
       "13        Low   No"
      ]
     },
     "execution_count": 27,
     "metadata": {},
     "output_type": "execute_result"
    }
   ],
   "source": [
    "filepath = \"exam-papers\\student-pass-data-2022-q4-c.csv\"\n",
    "\n",
    "data_frame = read_csv(filepath)\n",
    "data_frame"
   ]
  },
  {
   "cell_type": "markdown",
   "id": "3adaa00e",
   "metadata": {},
   "source": [
    "Using Bayes Theorem determine the probability of a person Passing the module given that their commitment level was high.\n",
    "$$P(Pass =Yes | Commitment = High)$$"
   ]
  },
  {
   "cell_type": "markdown",
   "id": "aff86ba7",
   "metadata": {},
   "source": [
    "Given:\n",
    "- Total records = 14\n",
    "- Total records where `commitment` = 'High' = 5\n",
    "- Total records where `Pass`='Yes' = 9\n",
    "\n",
    "The updated probabilities are:\n",
    "- $P(\\text{Pass = Yes}) = \\frac{9}{14}$\n",
    "- $P(\\text{Commitment = High}) = \\frac{5}{14}$\n",
    "- Of the 9 records where `Pass`='Yes', 3 have `commitment` = 'High'\n",
    "- $P(\\text{Commitment = High | Pass = Yes}) = \\frac{3}{9}$\n",
    "\n",
    "Using Bayes' Theorem, we calculate:\n",
    "$P(\\text{Pass = Yes | Commitment = High}) = \\frac{P(\\text{Commitment = High | Pass = Yes}) \\times P(\\text{Pass = Yes})}{P(\\text{Commitment = High})}$  \n",
    "$= \\dfrac{\\frac{3}{9} \\times \\frac{9}{14}}{\\frac{5}{14}} = \\frac{1}{3} \\times \\frac{9}{14} \\times \\frac{14}{5} = \\frac{9}{15}= 0.6$\n",
    "\n",
    "So, the probability of passing given a high commitment level remains 0.6, or 60%."
   ]
  },
  {
   "cell_type": "code",
   "execution_count": 28,
   "id": "eb57cb2c",
   "metadata": {},
   "outputs": [
    {
     "name": "stdout",
     "output_type": "stream",
     "text": [
      "P(Pass = Yes | (Commitment = High)): 0.6\n"
     ]
    }
   ],
   "source": [
    "# Define the condition for (Study = Yes), (AttendLectures = Yes), (CompleteCA = Yes)\n",
    "condition = data_frame[\"Commitment\"] == \"High\"\n",
    "\n",
    "# print(condition)\n",
    "filtered_data_frame = data_frame[condition]\n",
    "\n",
    "total_students_meet_criteria = len(filtered_data_frame)\n",
    "\n",
    "# Calculate the number of students who meet the criteria and passed the machine learning module\n",
    "students_passed = filtered_data_frame[\"Pass\"].value_counts().get(\"Yes\", 0)\n",
    "\n",
    "conditional_probability = (\n",
    "    students_passed / total_students_meet_criteria\n",
    "    if total_students_meet_criteria > 0\n",
    "    else 0\n",
    ")\n",
    "\n",
    "# Print the conditional probability\n",
    "print(f\"P(Pass = Yes | (Commitment = High)): {conditional_probability}\")"
   ]
  },
  {
   "cell_type": "markdown",
   "id": "abc1be5b",
   "metadata": {},
   "source": [
    "---\n",
    "\n",
    "Copyright &copy; 2024 Mark Crowe <https://github.com/marcocrowe>. All rights reserved.\n"
   ]
  }
 ],
 "metadata": {
  "kernelspec": {
   "display_name": "Python 3 (ipykernel)",
   "language": "python",
   "name": "python3"
  },
  "language_info": {
   "codemirror_mode": {
    "name": "ipython",
    "version": 3
   },
   "file_extension": ".py",
   "mimetype": "text/x-python",
   "name": "python",
   "nbconvert_exporter": "python",
   "pygments_lexer": "ipython3",
   "version": "3.11.5"
  }
 },
 "nbformat": 4,
 "nbformat_minor": 5
}
