{
 "cells": [
  {
   "cell_type": "code",
   "execution_count": 1,
   "id": "1b3c3336",
   "metadata": {},
   "outputs": [],
   "source": [
    "from pandas import DataFrame, read_csv\n",
    "from IPython.display import display, Latex\n",
    "from sklearn.linear_model import LinearRegression\n",
    "from data_analytics.github import display_jupyter_notebook_header"
   ]
  },
  {
   "cell_type": "markdown",
   "id": "8b4b29f9",
   "metadata": {},
   "source": [
    "# [Machine Learning - Linear Regression](https://github.com/marcocrowe/learn-machine-learning \"Machine Learning - Linear Regression\")"
   ]
  },
  {
   "cell_type": "code",
   "execution_count": 2,
   "id": "1c289f7c",
   "metadata": {},
   "outputs": [
    {
     "data": {
      "text/html": [
       "<!--\r\n",
       "import data_analytics.github as github\r\n",
       "print(github.create_jupyter_notebook_header(\"marcocrowe\", \"learn-machine-learning\", \"linear-regression.ipynb\", \"master\"))\r\n",
       "-->\r\n",
       "<table style=\"margin: auto;\"><tr><td><a href=\"https://mybinder.org/v2/gh/marcocrowe/learn-machine-learning/master?filepath=linear-regression.ipynb\" target=\"_parent\"><img src=\"https://mybinder.org/badge_logo.svg\" alt=\"Open In Binder\"/></a></td><td>online editors</td><td><a href=\"https://colab.research.google.com/github/marcocrowe/learn-machine-learning/blob/master/linear-regression.ipynb\" target=\"_parent\"><img src=\"https://colab.research.google.com/assets/colab-badge.svg\" alt=\"Open In Colab\"/></a></td></tr></table>"
      ],
      "text/plain": [
       "<IPython.core.display.HTML object>"
      ]
     },
     "metadata": {},
     "output_type": "display_data"
    }
   ],
   "source": [
    "display_jupyter_notebook_header(\n",
    "    \"marcocrowe\", \"learn-machine-learning\", \"linear-regression.ipynb\"\n",
    ")"
   ]
  },
  {
   "cell_type": "markdown",
   "id": "2f1e4d1d",
   "metadata": {},
   "source": [
    "## Sample Question - Weather Entropy"
   ]
  },
  {
   "cell_type": "code",
   "execution_count": 3,
   "id": "b88e096d",
   "metadata": {},
   "outputs": [
    {
     "data": {
      "text/html": [
       "<div>\n",
       "<style scoped>\n",
       "    .dataframe tbody tr th:only-of-type {\n",
       "        vertical-align: middle;\n",
       "    }\n",
       "\n",
       "    .dataframe tbody tr th {\n",
       "        vertical-align: top;\n",
       "    }\n",
       "\n",
       "    .dataframe thead th {\n",
       "        text-align: right;\n",
       "    }\n",
       "</style>\n",
       "<table border=\"1\" class=\"dataframe\">\n",
       "  <thead>\n",
       "    <tr style=\"text-align: right;\">\n",
       "      <th></th>\n",
       "      <th>Id</th>\n",
       "      <th>Number Of Guests</th>\n",
       "      <th>Wedding Cost</th>\n",
       "    </tr>\n",
       "  </thead>\n",
       "  <tbody>\n",
       "    <tr>\n",
       "      <th>0</th>\n",
       "      <td>1</td>\n",
       "      <td>500</td>\n",
       "      <td>320</td>\n",
       "    </tr>\n",
       "    <tr>\n",
       "      <th>1</th>\n",
       "      <td>2</td>\n",
       "      <td>550</td>\n",
       "      <td>380</td>\n",
       "    </tr>\n",
       "    <tr>\n",
       "      <th>2</th>\n",
       "      <td>3</td>\n",
       "      <td>620</td>\n",
       "      <td>400</td>\n",
       "    </tr>\n",
       "    <tr>\n",
       "      <th>3</th>\n",
       "      <td>4</td>\n",
       "      <td>630</td>\n",
       "      <td>390</td>\n",
       "    </tr>\n",
       "    <tr>\n",
       "      <th>4</th>\n",
       "      <td>5</td>\n",
       "      <td>665</td>\n",
       "      <td>385</td>\n",
       "    </tr>\n",
       "    <tr>\n",
       "      <th>5</th>\n",
       "      <td>6</td>\n",
       "      <td>700</td>\n",
       "      <td>410</td>\n",
       "    </tr>\n",
       "    <tr>\n",
       "      <th>6</th>\n",
       "      <td>7</td>\n",
       "      <td>770</td>\n",
       "      <td>480</td>\n",
       "    </tr>\n",
       "    <tr>\n",
       "      <th>7</th>\n",
       "      <td>8</td>\n",
       "      <td>880</td>\n",
       "      <td>600</td>\n",
       "    </tr>\n",
       "    <tr>\n",
       "      <th>8</th>\n",
       "      <td>9</td>\n",
       "      <td>920</td>\n",
       "      <td>570</td>\n",
       "    </tr>\n",
       "    <tr>\n",
       "      <th>9</th>\n",
       "      <td>10</td>\n",
       "      <td>1000</td>\n",
       "      <td>620</td>\n",
       "    </tr>\n",
       "  </tbody>\n",
       "</table>\n",
       "</div>"
      ],
      "text/plain": [
       "   Id  Number Of Guests  Wedding Cost\n",
       "0   1               500           320\n",
       "1   2               550           380\n",
       "2   3               620           400\n",
       "3   4               630           390\n",
       "4   5               665           385\n",
       "5   6               700           410\n",
       "6   7               770           480\n",
       "7   8               880           600\n",
       "8   9               920           570\n",
       "9  10              1000           620"
      ]
     },
     "execution_count": 3,
     "metadata": {},
     "output_type": "execute_result"
    }
   ],
   "source": [
    "filepath = \"data/wedding-guest-cost.csv\"\n",
    "data_frame: DataFrame = read_csv(filepath)\n",
    "data_frame"
   ]
  },
  {
   "cell_type": "markdown",
   "id": "f6535c15",
   "metadata": {},
   "source": [
    "### Using LinearRegression Library"
   ]
  },
  {
   "cell_type": "code",
   "execution_count": 4,
   "id": "391a908d",
   "metadata": {},
   "outputs": [
    {
     "name": "stdout",
     "output_type": "stream",
     "text": [
      "0.62\n"
     ]
    }
   ],
   "source": [
    "features = data_frame[[\"Number Of Guests\"]]\n",
    "target = data_frame[\"Wedding Cost\"]\n",
    "\n",
    "linear_regression_model = LinearRegression()\n",
    "_ = linear_regression_model.fit(features, target)\n",
    "\n",
    "m = linear_regression_model.coef_[0]\n",
    "print(f\"{m:.2f}\")"
   ]
  },
  {
   "cell_type": "code",
   "execution_count": 5,
   "id": "7d29c5a2",
   "metadata": {},
   "outputs": [
    {
     "name": "stdout",
     "output_type": "stream",
     "text": [
      "The predicted wedding cost for a wedding with 730 party guests is: $459.53\n"
     ]
    }
   ],
   "source": [
    "guests = 730\n",
    "guests_to_predict_cost_data_frame = DataFrame({\"Number Of Guests\": [guests]})\n",
    "predicted_wedding_cost = linear_regression_model.predict(\n",
    "    guests_to_predict_cost_data_frame\n",
    ")\n",
    "\n",
    "print(\n",
    "    f\"The predicted wedding cost for a wedding with {guests} party guests is: ${predicted_wedding_cost[0]:.2f}\"\n",
    ")"
   ]
  },
  {
   "cell_type": "markdown",
   "id": "cfd639ce",
   "metadata": {},
   "source": [
    "### Using Calculations"
   ]
  },
  {
   "cell_type": "code",
   "execution_count": 6,
   "id": "d800f9f6",
   "metadata": {},
   "outputs": [
    {
     "data": {
      "text/html": [
       "<div>\n",
       "<style scoped>\n",
       "    .dataframe tbody tr th:only-of-type {\n",
       "        vertical-align: middle;\n",
       "    }\n",
       "\n",
       "    .dataframe tbody tr th {\n",
       "        vertical-align: top;\n",
       "    }\n",
       "\n",
       "    .dataframe thead th {\n",
       "        text-align: right;\n",
       "    }\n",
       "</style>\n",
       "<table border=\"1\" class=\"dataframe\">\n",
       "  <thead>\n",
       "    <tr style=\"text-align: right;\">\n",
       "      <th></th>\n",
       "      <th>Id</th>\n",
       "      <th>Number Of Guests</th>\n",
       "      <th>Wedding Cost</th>\n",
       "      <th>(x - x̄)</th>\n",
       "      <th>(y - ȳ)</th>\n",
       "      <th>(x - x̄)(y - ȳ)</th>\n",
       "      <th>(x - x̄)²</th>\n",
       "    </tr>\n",
       "  </thead>\n",
       "  <tbody>\n",
       "    <tr>\n",
       "      <th>0</th>\n",
       "      <td>1</td>\n",
       "      <td>500</td>\n",
       "      <td>320</td>\n",
       "      <td>-223.5</td>\n",
       "      <td>-135.5</td>\n",
       "      <td>30284.25</td>\n",
       "      <td>49952.25</td>\n",
       "    </tr>\n",
       "    <tr>\n",
       "      <th>1</th>\n",
       "      <td>2</td>\n",
       "      <td>550</td>\n",
       "      <td>380</td>\n",
       "      <td>-173.5</td>\n",
       "      <td>-75.5</td>\n",
       "      <td>13099.25</td>\n",
       "      <td>30102.25</td>\n",
       "    </tr>\n",
       "    <tr>\n",
       "      <th>2</th>\n",
       "      <td>3</td>\n",
       "      <td>620</td>\n",
       "      <td>400</td>\n",
       "      <td>-103.5</td>\n",
       "      <td>-55.5</td>\n",
       "      <td>5744.25</td>\n",
       "      <td>10712.25</td>\n",
       "    </tr>\n",
       "    <tr>\n",
       "      <th>3</th>\n",
       "      <td>4</td>\n",
       "      <td>630</td>\n",
       "      <td>390</td>\n",
       "      <td>-93.5</td>\n",
       "      <td>-65.5</td>\n",
       "      <td>6124.25</td>\n",
       "      <td>8742.25</td>\n",
       "    </tr>\n",
       "    <tr>\n",
       "      <th>4</th>\n",
       "      <td>5</td>\n",
       "      <td>665</td>\n",
       "      <td>385</td>\n",
       "      <td>-58.5</td>\n",
       "      <td>-70.5</td>\n",
       "      <td>4124.25</td>\n",
       "      <td>3422.25</td>\n",
       "    </tr>\n",
       "    <tr>\n",
       "      <th>5</th>\n",
       "      <td>6</td>\n",
       "      <td>700</td>\n",
       "      <td>410</td>\n",
       "      <td>-23.5</td>\n",
       "      <td>-45.5</td>\n",
       "      <td>1069.25</td>\n",
       "      <td>552.25</td>\n",
       "    </tr>\n",
       "    <tr>\n",
       "      <th>6</th>\n",
       "      <td>7</td>\n",
       "      <td>770</td>\n",
       "      <td>480</td>\n",
       "      <td>46.5</td>\n",
       "      <td>24.5</td>\n",
       "      <td>1139.25</td>\n",
       "      <td>2162.25</td>\n",
       "    </tr>\n",
       "    <tr>\n",
       "      <th>7</th>\n",
       "      <td>8</td>\n",
       "      <td>880</td>\n",
       "      <td>600</td>\n",
       "      <td>156.5</td>\n",
       "      <td>144.5</td>\n",
       "      <td>22614.25</td>\n",
       "      <td>24492.25</td>\n",
       "    </tr>\n",
       "    <tr>\n",
       "      <th>8</th>\n",
       "      <td>9</td>\n",
       "      <td>920</td>\n",
       "      <td>570</td>\n",
       "      <td>196.5</td>\n",
       "      <td>114.5</td>\n",
       "      <td>22499.25</td>\n",
       "      <td>38612.25</td>\n",
       "    </tr>\n",
       "    <tr>\n",
       "      <th>9</th>\n",
       "      <td>10</td>\n",
       "      <td>1000</td>\n",
       "      <td>620</td>\n",
       "      <td>276.5</td>\n",
       "      <td>164.5</td>\n",
       "      <td>45484.25</td>\n",
       "      <td>76452.25</td>\n",
       "    </tr>\n",
       "  </tbody>\n",
       "</table>\n",
       "</div>"
      ],
      "text/plain": [
       "   Id  Number Of Guests  Wedding Cost  (x - x̄)  (y - ȳ)  (x - x̄)(y - ȳ)  \\\n",
       "0   1               500           320    -223.5   -135.5         30284.25   \n",
       "1   2               550           380    -173.5    -75.5         13099.25   \n",
       "2   3               620           400    -103.5    -55.5          5744.25   \n",
       "3   4               630           390     -93.5    -65.5          6124.25   \n",
       "4   5               665           385     -58.5    -70.5          4124.25   \n",
       "5   6               700           410     -23.5    -45.5          1069.25   \n",
       "6   7               770           480      46.5     24.5          1139.25   \n",
       "7   8               880           600     156.5    144.5         22614.25   \n",
       "8   9               920           570     196.5    114.5         22499.25   \n",
       "9  10              1000           620     276.5    164.5         45484.25   \n",
       "\n",
       "   (x - x̄)²  \n",
       "0   49952.25  \n",
       "1   30102.25  \n",
       "2   10712.25  \n",
       "3    8742.25  \n",
       "4    3422.25  \n",
       "5     552.25  \n",
       "6    2162.25  \n",
       "7   24492.25  \n",
       "8   38612.25  \n",
       "9   76452.25  "
      ]
     },
     "execution_count": 6,
     "metadata": {},
     "output_type": "execute_result"
    }
   ],
   "source": [
    "x_mean = data_frame[\"Number Of Guests\"].mean()\n",
    "y_mean = data_frame[\"Wedding Cost\"].mean()\n",
    "\n",
    "calculations_data_frame = data_frame.copy()\n",
    "calculations_data_frame[\"(x - x̄)\"] = data_frame[\"Number Of Guests\"] - x_mean\n",
    "calculations_data_frame[\"(y - ȳ)\"] = data_frame[\"Wedding Cost\"] - y_mean\n",
    "calculations_data_frame[\"(x - x̄)(y - ȳ)\"] = (\n",
    "    calculations_data_frame[\"(x - x̄)\"] * calculations_data_frame[\"(y - ȳ)\"]\n",
    ")\n",
    "calculations_data_frame[\"(x - x̄)²\"] = calculations_data_frame[\"(x - x̄)\"] ** 2\n",
    "calculations_data_frame"
   ]
  },
  {
   "cell_type": "markdown",
   "id": "55824b21",
   "metadata": {},
   "source": [
    "slope of the regression line is:\n",
    "\n",
    "$b_1 = \\frac{\\sum_{i=1}^{n} (x_i - \\bar{x})(y_i - \\bar{y})}{\\sum_{i=1}^{n} (x_i - \\bar{x})^2}$\n",
    "\n",
    "where:"
   ]
  },
  {
   "cell_type": "code",
   "execution_count": 7,
   "id": "02bae89d",
   "metadata": {},
   "outputs": [
    {
     "name": "stdout",
     "output_type": "stream",
     "text": [
      "0.62\n"
     ]
    }
   ],
   "source": [
    "# slope of the regression line is:\n",
    "dev_prod = calculations_data_frame[\"(x - x̄)(y - ȳ)\"].sum()\n",
    "dev_sq = calculations_data_frame[\"(x - x̄)²\"].sum()\n",
    "\n",
    "b1 = dev_prod / dev_sq\n",
    "print(f\"{b1:.2f}\")"
   ]
  },
  {
   "cell_type": "markdown",
   "id": "b8788b10",
   "metadata": {},
   "source": [
    "The y-intercept $b_0$ in a linear regression model can be calculated using the following formula:\n",
    "\n",
    "$b_0 = y_{\\text{mean}} - b_1 \\cdot x_{\\text{mean}}$\n",
    "\n",
    "Where:\n",
    "\n",
    "- $y_{\\text{mean}}$ is the mean of the target variable (in your case, the mean of the wedding cost).\n",
    "- $x_{\\text{mean}}$ is the mean of the independent variable (in your case, the mean of the number of guests).\n",
    "- $b_1$ is the slope of the regression line, which you calculated earlier.\n",
    "\n",
    "The formula for calculating the y-intercept is derived from the equation of a straight line:\n",
    "\n",
    "$y = b_0 + b_1 \\cdot x$\n",
    "\n",
    "Given a mean value for $x$ and $y$, you can rearrange the formula to solve for $b_0$:\n",
    "\n",
    "$b_0 = y_{\\text{mean}} - b_1 \\cdot x_{\\text{mean}}$\n",
    "\n",
    "You can plug in the calculated slope $b_1$, and the means of $x$ and $y$ to calculate the y-intercept.\n",
    "\n",
    "Let's apply this formula using the values you provided:\n",
    "\n",
    "- $y_{\\text{mean}} = 455.50$ (mean of the wedding cost).\n",
    "- $x_{\\text{mean}} = 723.50$ (mean of the number of guests).\n",
    "- $b_1 = 0.62$ (slope of the regression line).\n"
   ]
  },
  {
   "cell_type": "code",
   "execution_count": 8,
   "id": "7525fdb1",
   "metadata": {},
   "outputs": [
    {
     "data": {
      "text/latex": [
       "$b_0 = \\overline{y} - b_1 \\times \\overline{x}$\n",
       "\n",
       "$b_0 = 455.50 - 0.62 \\times 723.50$\n",
       "\n",
       "$b_0 =  455.50 - 449.03 = 6.47$"
      ],
      "text/plain": [
       "<IPython.core.display.Latex object>"
      ]
     },
     "metadata": {},
     "output_type": "display_data"
    }
   ],
   "source": [
    "b0 = y_mean - m * x_mean\n",
    "text = \"$b_0 = \\overline{y} - b_1 \\\\times \\overline{x}$\\n\\n\"\n",
    "text += f\"$b_0 = {y_mean:.2f} - {m:.2f} \\\\times {x_mean:.2f}$\\n\\n\"\n",
    "text += f\"$b_0 =  {y_mean:.2f} - {m*x_mean:.2f} = {b0:.2f}$\"\n",
    "display(Latex(text))"
   ]
  },
  {
   "cell_type": "markdown",
   "id": "7007bd68",
   "metadata": {},
   "source": [
    "In the context of a linear regression model, the predicted wedding cost $E(y)$ for a given number of guests $x$ can be calculated using the regression line equation. The equation is:\n",
    "\n",
    "$E(y) = b_0 + b_1 \\cdot x$\n",
    "\n",
    "Where:\n",
    "\n",
    "- $E(y)$ is the predicted wedding cost.\n",
    "- $b_0$ is the y-intercept of the regression line (also called the constant term).\n",
    "- $b_1$ is the slope of the regression line.\n",
    "- $x$ is the given number of guests (the independent variable).\n",
    "\n",
    "Given the number of guests you want to predict the wedding cost for, you can plug in the values of $b_0$, $b_1$, and $x$ into the formula to calculate the predicted wedding cost:\n",
    "\n",
    "$E(y) = b_0 + b_1 \\cdot x$\n",
    "\n",
    "Let's break it down step by step:\n",
    "\n",
    "1. **Identify the number of guests ($x$):**\n",
    "   - This is the independent variable for which you want to predict the wedding cost. For example, if you want to predict the cost for a wedding with 730 guests, then $x = 730$.\n",
    "\n",
    "2. **Calculate the predicted wedding cost ($E(y)$):**\n",
    "   - Use the formula $E(y) = b_0 + b_1 \\cdot x$.\n",
    "   - Plug in the values of $b_0$ and $b_1$ (as calculated earlier) and the given number of guests ($x$).\n"
   ]
  },
  {
   "cell_type": "code",
   "execution_count": 9,
   "id": "2ccd7e78",
   "metadata": {},
   "outputs": [
    {
     "data": {
      "text/latex": [
       "$b_0 = 6.47, b_1 = 0.62, x = 730$\n",
       "\n",
       "$y = b_0 + b_1 \\times x$\n",
       "\n",
       "$y=6.47 + 0.62 \\times 730$\n",
       "\n",
       "$y = 6.47 + 453.07$\n",
       "\n",
       "$y = 459.53$"
      ],
      "text/plain": [
       "<IPython.core.display.Latex object>"
      ]
     },
     "metadata": {},
     "output_type": "display_data"
    },
    {
     "name": "stdout",
     "output_type": "stream",
     "text": [
      "The predicted wedding cost for a wedding with 730 party guests is: $459.53\n"
     ]
    }
   ],
   "source": [
    "y = b0 + b1 * guests\n",
    "\n",
    "text = f\"$b_0 = {b0:.2f}, b_1 = {b1:.2f}, x = {guests}$\\n\\n\"\n",
    "text += \"$y = b_0 + b_1 \\\\times x$\\n\\n\"\n",
    "text += f\"$y={b0:.2f} + {b1:.2f} \\\\times {guests}$\\n\\n\"\n",
    "text += f\"$y = {b0:.2f} + {b1*guests:.2f}$\\n\\n\"\n",
    "text += f\"$y = {y:.2f}$\"\n",
    "\n",
    "display(Latex(text))\n",
    "print(f\"The predicted wedding cost for a wedding with {guests} party guests is: ${y:.2f}\")"
   ]
  },
  {
   "cell_type": "markdown",
   "id": "abc1be5b",
   "metadata": {},
   "source": [
    "---\n",
    "\n",
    "Copyright &copy; 2024 Mark Crowe <https://github.com/marcocrowe>. All rights reserved.\n"
   ]
  }
 ],
 "metadata": {
  "kernelspec": {
   "display_name": "Python 3 (ipykernel)",
   "language": "python",
   "name": "python3"
  },
  "language_info": {
   "codemirror_mode": {
    "name": "ipython",
    "version": 3
   },
   "file_extension": ".py",
   "mimetype": "text/x-python",
   "name": "python",
   "nbconvert_exporter": "python",
   "pygments_lexer": "ipython3",
   "version": "3.11.5"
  }
 },
 "nbformat": 4,
 "nbformat_minor": 5
}
